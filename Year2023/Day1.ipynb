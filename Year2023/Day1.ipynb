{
 "cells": [
  {
   "cell_type": "code",
   "execution_count": null,
   "metadata": {},
   "outputs": [],
   "source": [
    "import re\n",
    "\n",
    "%cd ..\n",
    "import advent\n",
    "%cd -"
   ]
  },
  {
   "cell_type": "markdown",
   "metadata": {},
   "source": [
    "### Download the Data"
   ]
  },
  {
   "cell_type": "code",
   "execution_count": null,
   "metadata": {},
   "outputs": [],
   "source": [
    "data = advent.download(2023, 1).split('\\n')"
   ]
  },
  {
   "cell_type": "markdown",
   "metadata": {},
   "source": [
    "### Shared Method to Find Calibration Values\n",
    "\n",
    "Since we need to convert letter to numbers in part 2, we'll create a digit lookup instead of relying on int().\n",
    "\n",
    "Numeric | Alphabetic\n",
    "------- | ----------\n",
    "1       | 'O'ne\n",
    "2       | 'T'wo\n",
    "3       | t'H'ree\n",
    "4       | 'F'our\n",
    "5       | f'I've\n",
    "6       | 'S'ix\n",
    "7       | se'V'en\n",
    "8       | 'E'ight\n",
    "9       | 'N'ine"
   ]
  },
  {
   "cell_type": "code",
   "execution_count": null,
   "metadata": {},
   "outputs": [],
   "source": [
    "digit_lookup = {\n",
    "    '1': 1, 'o': 1,\n",
    "    '2': 2, 't': 2,\n",
    "    '3': 3, 'h': 3,\n",
    "    '4': 4, 'f': 4,\n",
    "    '5': 5, 'i': 5,\n",
    "    '6': 6, 's': 6,\n",
    "    '7': 7, 'v': 7,\n",
    "    '8': 8, 'e': 8,\n",
    "    '9': 9, 'n': 9,\n",
    "}\n",
    "\n",
    "def find_calibration_values(regex: re.Pattern):\n",
    "    digits = map(regex.findall, data)\n",
    "    values = map(lambda _: digit_lookup[_[0]] * 10 + digit_lookup[_[-1]], digits)\n",
    "    return values"
   ]
  },
  {
   "cell_type": "markdown",
   "metadata": {},
   "source": [
    "# Part One"
   ]
  },
  {
   "cell_type": "code",
   "execution_count": null,
   "metadata": {},
   "outputs": [],
   "source": [
    "regex = re.compile('\\d')\n",
    "values = find_calibration_values(regex)\n",
    "sum(values)"
   ]
  },
  {
   "cell_type": "markdown",
   "metadata": {},
   "source": [
    "# Part Two"
   ]
  },
  {
   "cell_type": "code",
   "execution_count": null,
   "metadata": {},
   "outputs": [],
   "source": [
    "regex = re.compile('\\d|o(?=ne)|t(?=wo)|(?<=t)h(?=ree)|f(?=our)|(?<=f)i(?=ve)|s(?=ix)|(?<=se)v(?=en)|e(?=ight)|n(?=ine)')\n",
    "values = find_calibration_values(regex)\n",
    "sum(values)"
   ]
  }
 ],
 "metadata": {
  "kernelspec": {
   "display_name": "Python 3",
   "language": "python",
   "name": "python3"
  },
  "language_info": {
   "codemirror_mode": {
    "name": "ipython",
    "version": 3
   },
   "file_extension": ".py",
   "mimetype": "text/x-python",
   "name": "python",
   "nbconvert_exporter": "python",
   "pygments_lexer": "ipython3",
   "version": "3.11.1"
  }
 },
 "nbformat": 4,
 "nbformat_minor": 2
}
