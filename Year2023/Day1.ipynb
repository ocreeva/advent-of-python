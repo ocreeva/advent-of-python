{
 "cells": [
  {
   "cell_type": "code",
   "execution_count": 33,
   "metadata": {},
   "outputs": [
    {
     "name": "stdout",
     "output_type": "stream",
     "text": [
      "c:\\Code\\Advent of Python\n",
      "c:\\Code\\Advent of Python\\Year2023\n"
     ]
    }
   ],
   "source": [
    "import re\n",
    "\n",
    "%cd ..\n",
    "import advent\n",
    "%cd -"
   ]
  },
  {
   "cell_type": "markdown",
   "metadata": {},
   "source": [
    "# Download the Data"
   ]
  },
  {
   "cell_type": "code",
   "execution_count": 35,
   "metadata": {},
   "outputs": [],
   "source": [
    "data = advent.download(2023, 1).split('\\n')"
   ]
  },
  {
   "cell_type": "markdown",
   "metadata": {},
   "source": [
    "# Part One"
   ]
  },
  {
   "cell_type": "code",
   "execution_count": 40,
   "metadata": {},
   "outputs": [
    {
     "data": {
      "text/plain": [
       "54968"
      ]
     },
     "execution_count": 40,
     "metadata": {},
     "output_type": "execute_result"
    }
   ],
   "source": [
    "regex = re.compile('\\d')\n",
    "digits = map(regex.findall, data)\n",
    "values = map(lambda _: int(_[0] + _[-1]), digits)\n",
    "sum(values)"
   ]
  },
  {
   "cell_type": "markdown",
   "metadata": {},
   "source": [
    "# Part Two"
   ]
  },
  {
   "cell_type": "code",
   "execution_count": 46,
   "metadata": {},
   "outputs": [
    {
     "data": {
      "text/plain": [
       "54094"
      ]
     },
     "execution_count": 46,
     "metadata": {},
     "output_type": "execute_result"
    }
   ],
   "source": [
    "# 1 O One\n",
    "# 2 T Two\n",
    "# 3 H tHree\n",
    "# 4 F Four\n",
    "# 5 I fIve\n",
    "# 6 S Six\n",
    "# 7 V seVen\n",
    "# 8 E Eight\n",
    "# 9 N Nine\n",
    "\n",
    "lookup = {\n",
    "    '1': 1, 'o': 1,\n",
    "    '2': 2, 't': 2,\n",
    "    '3': 3, 'h': 3,\n",
    "    '4': 4, 'f': 4,\n",
    "    '5': 5, 'i': 5,\n",
    "    '6': 6, 's': 6,\n",
    "    '7': 7, 'v': 7,\n",
    "    '8': 8, 'e': 8,\n",
    "    '9': 9, 'n': 9,\n",
    "}\n",
    "\n",
    "regex = re.compile('\\d|o(?=ne)|t(?=wo)|(?<=t)h(?=ree)|f(?=our)|(?<=f)i(?=ve)|s(?=ix)|(?<=se)v(?=en)|e(?=ight)|n(?=ine)')\n",
    "digits = map(regex.findall, data)\n",
    "values = map(lambda _: int(lookup[_[0]] * 10 + lookup[_[-1]]), digits)\n",
    "sum(values)\n"
   ]
  }
 ],
 "metadata": {
  "kernelspec": {
   "display_name": "Python 3",
   "language": "python",
   "name": "python3"
  },
  "language_info": {
   "codemirror_mode": {
    "name": "ipython",
    "version": 3
   },
   "file_extension": ".py",
   "mimetype": "text/x-python",
   "name": "python",
   "nbconvert_exporter": "python",
   "pygments_lexer": "ipython3",
   "version": "3.11.1"
  }
 },
 "nbformat": 4,
 "nbformat_minor": 2
}
